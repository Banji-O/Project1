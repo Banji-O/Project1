{
 "cells": [
  {
   "cell_type": "code",
   "execution_count": 1,
   "id": "a5461883-b12f-4415-b05f-fbc374584700",
   "metadata": {},
   "outputs": [],
   "source": [
    "import pandas as pd\n",
    "import numpy as np"
   ]
  },
  {
   "cell_type": "raw",
   "id": "5b93ad43-9186-4d06-bc94-8ebc6e5d48de",
   "metadata": {},
   "source": [
    "it is believed that 68.3% of data distribution falls between -1 standard deviation and +1 standard deviation\n",
    "Also, 95.5% of data distribution falls between -2 standard deviation and +2 standard deviation\n",
    "The general guideline is that any data that goes beyond -3 or +3 standard deviation could treated as an outlier. Data within this range is about 99.7%\"\n"
   ]
  },
  {
   "cell_type": "code",
   "execution_count": 2,
   "id": "53ea2f38-c420-4dee-bbd9-9d1ab80c9e13",
   "metadata": {},
   "outputs": [
    {
     "data": {
      "text/html": [
       "<div>\n",
       "<style scoped>\n",
       "    .dataframe tbody tr th:only-of-type {\n",
       "        vertical-align: middle;\n",
       "    }\n",
       "\n",
       "    .dataframe tbody tr th {\n",
       "        vertical-align: top;\n",
       "    }\n",
       "\n",
       "    .dataframe thead th {\n",
       "        text-align: right;\n",
       "    }\n",
       "</style>\n",
       "<table border=\"1\" class=\"dataframe\">\n",
       "  <thead>\n",
       "    <tr style=\"text-align: right;\">\n",
       "      <th></th>\n",
       "      <th>Gender</th>\n",
       "      <th>Height</th>\n",
       "      <th>Weight</th>\n",
       "    </tr>\n",
       "  </thead>\n",
       "  <tbody>\n",
       "    <tr>\n",
       "      <th>0</th>\n",
       "      <td>Male</td>\n",
       "      <td>73.847017</td>\n",
       "      <td>241.893563</td>\n",
       "    </tr>\n",
       "    <tr>\n",
       "      <th>1</th>\n",
       "      <td>Male</td>\n",
       "      <td>68.781904</td>\n",
       "      <td>162.310473</td>\n",
       "    </tr>\n",
       "  </tbody>\n",
       "</table>\n",
       "</div>"
      ],
      "text/plain": [
       "  Gender     Height      Weight\n",
       "0   Male  73.847017  241.893563\n",
       "1   Male  68.781904  162.310473"
      ]
     },
     "execution_count": 2,
     "metadata": {},
     "output_type": "execute_result"
    }
   ],
   "source": [
    "df_ = pd.read_csv('weight_height.csv')\n",
    "df_.head(2)"
   ]
  },
  {
   "cell_type": "code",
   "execution_count": 3,
   "id": "ac94f1a4-4e55-49cb-b511-328e075e94ea",
   "metadata": {},
   "outputs": [],
   "source": [
    "# extracting gender and height column\n",
    "df_height = df_[['Gender', 'Height']]"
   ]
  },
  {
   "cell_type": "code",
   "execution_count": 4,
   "id": "bff43db9-01f1-48c6-bb51-614c6c146df1",
   "metadata": {},
   "outputs": [],
   "source": [
    "# converting the columns' names to proper or title case\n",
    "df_height.columns = df_height.columns.str.lower()"
   ]
  },
  {
   "cell_type": "code",
   "execution_count": 5,
   "id": "8bee553f-6df3-41cd-982e-d1203c6c4ec3",
   "metadata": {},
   "outputs": [
    {
     "data": {
      "text/html": [
       "<div>\n",
       "<style scoped>\n",
       "    .dataframe tbody tr th:only-of-type {\n",
       "        vertical-align: middle;\n",
       "    }\n",
       "\n",
       "    .dataframe tbody tr th {\n",
       "        vertical-align: top;\n",
       "    }\n",
       "\n",
       "    .dataframe thead th {\n",
       "        text-align: right;\n",
       "    }\n",
       "</style>\n",
       "<table border=\"1\" class=\"dataframe\">\n",
       "  <thead>\n",
       "    <tr style=\"text-align: right;\">\n",
       "      <th></th>\n",
       "      <th>height</th>\n",
       "    </tr>\n",
       "  </thead>\n",
       "  <tbody>\n",
       "    <tr>\n",
       "      <th>count</th>\n",
       "      <td>10000.00</td>\n",
       "    </tr>\n",
       "    <tr>\n",
       "      <th>mean</th>\n",
       "      <td>66.37</td>\n",
       "    </tr>\n",
       "    <tr>\n",
       "      <th>std</th>\n",
       "      <td>3.85</td>\n",
       "    </tr>\n",
       "    <tr>\n",
       "      <th>min</th>\n",
       "      <td>54.26</td>\n",
       "    </tr>\n",
       "    <tr>\n",
       "      <th>25%</th>\n",
       "      <td>63.51</td>\n",
       "    </tr>\n",
       "    <tr>\n",
       "      <th>50%</th>\n",
       "      <td>66.32</td>\n",
       "    </tr>\n",
       "    <tr>\n",
       "      <th>75%</th>\n",
       "      <td>69.17</td>\n",
       "    </tr>\n",
       "    <tr>\n",
       "      <th>max</th>\n",
       "      <td>79.00</td>\n",
       "    </tr>\n",
       "  </tbody>\n",
       "</table>\n",
       "</div>"
      ],
      "text/plain": [
       "         height\n",
       "count  10000.00\n",
       "mean      66.37\n",
       "std        3.85\n",
       "min       54.26\n",
       "25%       63.51\n",
       "50%       66.32\n",
       "75%       69.17\n",
       "max       79.00"
      ]
     },
     "execution_count": 5,
     "metadata": {},
     "output_type": "execute_result"
    }
   ],
   "source": [
    "df_height.describe().round(2)"
   ]
  },
  {
   "cell_type": "code",
   "execution_count": 6,
   "id": "9ba0680f-fd83-4263-ae64-a769719206aa",
   "metadata": {},
   "outputs": [
    {
     "data": {
      "text/plain": [
       "0"
      ]
     },
     "execution_count": 6,
     "metadata": {},
     "output_type": "execute_result"
    }
   ],
   "source": [
    "df_height.height.isnull().sum()"
   ]
  },
  {
   "cell_type": "code",
   "execution_count": 7,
   "id": "9ff3384b-3da4-41c6-a8fb-897f70530d7f",
   "metadata": {},
   "outputs": [
    {
     "name": "stderr",
     "output_type": "stream",
     "text": [
      "C:\\Users\\Banji\\anaconda3\\Lib\\site-packages\\seaborn\\_oldcore.py:1119: FutureWarning: use_inf_as_na option is deprecated and will be removed in a future version. Convert inf values to NaN before operating instead.\n",
      "  with pd.option_context('mode.use_inf_as_na', True):\n"
     ]
    },
    {
     "data": {
      "image/png": "[encoded data removed]",
      "text/plain": [
       "<Figure size 640x480 with 1 Axes>"
      ]
     },
     "metadata": {},
     "output_type": "display_data"
    }
   ],
   "source": [
    "import seaborn as sb\n",
    "import matplotlib.pyplot as plt\n",
    "sb.histplot(df_height.height, kde=True)\n",
    "plt.title('Distribution of Height')\n",
    "#plt.figure(figsize=(2,2))\n",
    "plt.show();           "
   ]
  },
  {
   "cell_type": "code",
   "execution_count": 8,
   "id": "7c8d21cf-01fd-42db-b6e9-c3c5a4f824f7",
   "metadata": {},
   "outputs": [
    {
     "data": {
      "text/plain": [
       "66.36755975482124"
      ]
     },
     "execution_count": 8,
     "metadata": {},
     "output_type": "execute_result"
    }
   ],
   "source": [
    "mean = df_height.height.mean()\n",
    "mean"
   ]
  },
  {
   "cell_type": "code",
   "execution_count": 9,
   "id": "716ff238-46fd-4bf0-854f-efe81a5a90d1",
   "metadata": {},
   "outputs": [
    {
     "data": {
      "text/plain": [
       "3.8475281207732324"
      ]
     },
     "execution_count": 9,
     "metadata": {},
     "output_type": "execute_result"
    }
   ],
   "source": [
    "std = df_height.height.std()\n",
    "std"
   ]
  },
  {
   "cell_type": "code",
   "execution_count": 10,
   "id": "3d8ba0da-e142-4241-964f-691c34189c1f",
   "metadata": {},
   "outputs": [
    {
     "data": {
      "text/plain": [
       "66.31807008178464"
      ]
     },
     "execution_count": 10,
     "metadata": {},
     "output_type": "execute_result"
    }
   ],
   "source": [
    "median = df_height.height.median()\n",
    "median"
   ]
  },
  {
   "cell_type": "code",
   "execution_count": 11,
   "id": "103f4d0d-e1d3-4876-9e7a-cb0e2b6cf4ff",
   "metadata": {},
   "outputs": [
    {
     "data": {
      "text/plain": [
       "54.82497539250154"
      ]
     },
     "execution_count": 11,
     "metadata": {},
     "output_type": "execute_result"
    }
   ],
   "source": [
    "values_below_3std = mean - (3 * std)\n",
    "values_below_3std"
   ]
  },
  {
   "cell_type": "code",
   "execution_count": 12,
   "id": "23c4b6ed-82c6-4f82-bc1b-e7ec5b9b055b",
   "metadata": {},
   "outputs": [
    {
     "data": {
      "text/plain": [
       "77.91014411714094"
      ]
     },
     "execution_count": 12,
     "metadata": {},
     "output_type": "execute_result"
    }
   ],
   "source": [
    "values_above_3std = mean + (3 * std)\n",
    "values_above_3std"
   ]
  },
  {
   "cell_type": "code",
   "execution_count": 14,
   "id": "a05490fa-5af4-4814-b898-f859e928874f",
   "metadata": {},
   "outputs": [
    {
     "data": {
      "text/html": [
       "<div>\n",
       "<style scoped>\n",
       "    .dataframe tbody tr th:only-of-type {\n",
       "        vertical-align: middle;\n",
       "    }\n",
       "\n",
       "    .dataframe tbody tr th {\n",
       "        vertical-align: top;\n",
       "    }\n",
       "\n",
       "    .dataframe thead th {\n",
       "        text-align: right;\n",
       "    }\n",
       "</style>\n",
       "<table border=\"1\" class=\"dataframe\">\n",
       "  <thead>\n",
       "    <tr style=\"text-align: right;\">\n",
       "      <th></th>\n",
       "      <th>gender</th>\n",
       "      <th>height</th>\n",
       "    </tr>\n",
       "  </thead>\n",
       "  <tbody>\n",
       "    <tr>\n",
       "      <th>994</th>\n",
       "      <td>Male</td>\n",
       "      <td>78.095867</td>\n",
       "    </tr>\n",
       "    <tr>\n",
       "      <th>1317</th>\n",
       "      <td>Male</td>\n",
       "      <td>78.462053</td>\n",
       "    </tr>\n",
       "    <tr>\n",
       "      <th>2014</th>\n",
       "      <td>Male</td>\n",
       "      <td>78.998742</td>\n",
       "    </tr>\n",
       "    <tr>\n",
       "      <th>3285</th>\n",
       "      <td>Male</td>\n",
       "      <td>78.528210</td>\n",
       "    </tr>\n",
       "    <tr>\n",
       "      <th>3757</th>\n",
       "      <td>Male</td>\n",
       "      <td>78.621374</td>\n",
       "    </tr>\n",
       "    <tr>\n",
       "      <th>6624</th>\n",
       "      <td>Female</td>\n",
       "      <td>54.616858</td>\n",
       "    </tr>\n",
       "    <tr>\n",
       "      <th>9285</th>\n",
       "      <td>Female</td>\n",
       "      <td>54.263133</td>\n",
       "    </tr>\n",
       "  </tbody>\n",
       "</table>\n",
       "</div>"
      ],
      "text/plain": [
       "      gender     height\n",
       "994     Male  78.095867\n",
       "1317    Male  78.462053\n",
       "2014    Male  78.998742\n",
       "3285    Male  78.528210\n",
       "3757    Male  78.621374\n",
       "6624  Female  54.616858\n",
       "9285  Female  54.263133"
      ]
     },
     "execution_count": 14,
     "metadata": {},
     "output_type": "execute_result"
    }
   ],
   "source": [
    "outliers = df_height[(df_height.height < values_below_3std) | (df_height.height > values_above_3std)]\n",
    "outliers"
   ]
  },
  {
   "cell_type": "code",
   "execution_count": 17,
   "id": "1355da7e-1438-483b-84bd-4acf38a76f0d",
   "metadata": {},
   "outputs": [
    {
     "data": {
      "text/html": [
       "<div>\n",
       "<style scoped>\n",
       "    .dataframe tbody tr th:only-of-type {\n",
       "        vertical-align: middle;\n",
       "    }\n",
       "\n",
       "    .dataframe tbody tr th {\n",
       "        vertical-align: top;\n",
       "    }\n",
       "\n",
       "    .dataframe thead th {\n",
       "        text-align: right;\n",
       "    }\n",
       "</style>\n",
       "<table border=\"1\" class=\"dataframe\">\n",
       "  <thead>\n",
       "    <tr style=\"text-align: right;\">\n",
       "      <th></th>\n",
       "      <th>gender</th>\n",
       "      <th>height</th>\n",
       "    </tr>\n",
       "  </thead>\n",
       "  <tbody>\n",
       "    <tr>\n",
       "      <th>0</th>\n",
       "      <td>Male</td>\n",
       "      <td>73.847017</td>\n",
       "    </tr>\n",
       "    <tr>\n",
       "      <th>1</th>\n",
       "      <td>Male</td>\n",
       "      <td>68.781904</td>\n",
       "    </tr>\n",
       "    <tr>\n",
       "      <th>2</th>\n",
       "      <td>Male</td>\n",
       "      <td>74.110105</td>\n",
       "    </tr>\n",
       "    <tr>\n",
       "      <th>3</th>\n",
       "      <td>Male</td>\n",
       "      <td>71.730978</td>\n",
       "    </tr>\n",
       "    <tr>\n",
       "      <th>4</th>\n",
       "      <td>Male</td>\n",
       "      <td>69.881796</td>\n",
       "    </tr>\n",
       "    <tr>\n",
       "      <th>...</th>\n",
       "      <td>...</td>\n",
       "      <td>...</td>\n",
       "    </tr>\n",
       "    <tr>\n",
       "      <th>9995</th>\n",
       "      <td>Female</td>\n",
       "      <td>66.172652</td>\n",
       "    </tr>\n",
       "    <tr>\n",
       "      <th>9996</th>\n",
       "      <td>Female</td>\n",
       "      <td>67.067155</td>\n",
       "    </tr>\n",
       "    <tr>\n",
       "      <th>9997</th>\n",
       "      <td>Female</td>\n",
       "      <td>63.867992</td>\n",
       "    </tr>\n",
       "    <tr>\n",
       "      <th>9998</th>\n",
       "      <td>Female</td>\n",
       "      <td>69.034243</td>\n",
       "    </tr>\n",
       "    <tr>\n",
       "      <th>9999</th>\n",
       "      <td>Female</td>\n",
       "      <td>61.944246</td>\n",
       "    </tr>\n",
       "  </tbody>\n",
       "</table>\n",
       "<p>9993 rows × 2 columns</p>\n",
       "</div>"
      ],
      "text/plain": [
       "      gender     height\n",
       "0       Male  73.847017\n",
       "1       Male  68.781904\n",
       "2       Male  74.110105\n",
       "3       Male  71.730978\n",
       "4       Male  69.881796\n",
       "...      ...        ...\n",
       "9995  Female  66.172652\n",
       "9996  Female  67.067155\n",
       "9997  Female  63.867992\n",
       "9998  Female  69.034243\n",
       "9999  Female  61.944246\n",
       "\n",
       "[9993 rows x 2 columns]"
      ]
     },
     "execution_count": 17,
     "metadata": {},
     "output_type": "execute_result"
    }
   ],
   "source": [
    "df_no_outlier = df_height[(df_height.height > values_below_3std) & (df_height.height < values_above_3std)]\n",
    "df_no_outlier"
   ]
  },
  {
   "cell_type": "code",
   "execution_count": 18,
   "id": "5ce4fac1-4dcf-476c-8d13-d74cc7cf0aef",
   "metadata": {},
   "outputs": [
    {
     "name": "stderr",
     "output_type": "stream",
     "text": [
      "C:\\Users\\Banji\\anaconda3\\Lib\\site-packages\\seaborn\\_oldcore.py:1119: FutureWarning: use_inf_as_na option is deprecated and will be removed in a future version. Convert inf values to NaN before operating instead.\n",
      "  with pd.option_context('mode.use_inf_as_na', True):\n"
     ]
    },
    {
     "data": {
      "image/png": "[encoded data removed]",
      "text/plain": [
       "<Figure size 640x480 with 1 Axes>"
      ]
     },
     "metadata": {},
     "output_type": "display_data"
    }
   ],
   "source": [
    "sb.histplot(df_no_outlier.height, kde=True)\n",
    "plt.title('Distribution of Height Without Outliers')\n",
    "plt.show;"
   ]
  },
  {
   "cell_type": "markdown",
   "id": "e5e134c2-8b94-4c65-b85d-edac5d406715",
   "metadata": {},
   "source": [
    "## Z Score"
   ]
  },
  {
   "cell_type": "raw",
   "id": "efa45d63-79a0-4cf7-a190-8e737d219998",
   "metadata": {},
   "source": [
    "Z- score is how many standard deviation away a datapoint is from mean\n",
    "(datavalue - mean) / standard deviation"
   ]
  },
  {
   "cell_type": "code",
   "execution_count": 19,
   "id": "28d76c0d-5aab-4f81-85dc-067c60a71eb6",
   "metadata": {},
   "outputs": [],
   "source": [
    "df_height['zscore'] = (df_height.height - df_height.height.mean()) / df_height.height.std()"
   ]
  },
  {
   "cell_type": "code",
   "execution_count": 20,
   "id": "92d20bc6-5b06-4c43-87bc-cbe59eb8dab7",
   "metadata": {},
   "outputs": [
    {
     "data": {
      "text/html": [
       "<div>\n",
       "<style scoped>\n",
       "    .dataframe tbody tr th:only-of-type {\n",
       "        vertical-align: middle;\n",
       "    }\n",
       "\n",
       "    .dataframe tbody tr th {\n",
       "        vertical-align: top;\n",
       "    }\n",
       "\n",
       "    .dataframe thead th {\n",
       "        text-align: right;\n",
       "    }\n",
       "</style>\n",
       "<table border=\"1\" class=\"dataframe\">\n",
       "  <thead>\n",
       "    <tr style=\"text-align: right;\">\n",
       "      <th></th>\n",
       "      <th>gender</th>\n",
       "      <th>height</th>\n",
       "      <th>zscore</th>\n",
       "    </tr>\n",
       "  </thead>\n",
       "  <tbody>\n",
       "    <tr>\n",
       "      <th>0</th>\n",
       "      <td>Male</td>\n",
       "      <td>73.847017</td>\n",
       "      <td>1.943964</td>\n",
       "    </tr>\n",
       "    <tr>\n",
       "      <th>1</th>\n",
       "      <td>Male</td>\n",
       "      <td>68.781904</td>\n",
       "      <td>0.627505</td>\n",
       "    </tr>\n",
       "    <tr>\n",
       "      <th>2</th>\n",
       "      <td>Male</td>\n",
       "      <td>74.110105</td>\n",
       "      <td>2.012343</td>\n",
       "    </tr>\n",
       "    <tr>\n",
       "      <th>3</th>\n",
       "      <td>Male</td>\n",
       "      <td>71.730978</td>\n",
       "      <td>1.393991</td>\n",
       "    </tr>\n",
       "    <tr>\n",
       "      <th>4</th>\n",
       "      <td>Male</td>\n",
       "      <td>69.881796</td>\n",
       "      <td>0.913375</td>\n",
       "    </tr>\n",
       "    <tr>\n",
       "      <th>...</th>\n",
       "      <td>...</td>\n",
       "      <td>...</td>\n",
       "      <td>...</td>\n",
       "    </tr>\n",
       "    <tr>\n",
       "      <th>9995</th>\n",
       "      <td>Female</td>\n",
       "      <td>66.172652</td>\n",
       "      <td>-0.050658</td>\n",
       "    </tr>\n",
       "    <tr>\n",
       "      <th>9996</th>\n",
       "      <td>Female</td>\n",
       "      <td>67.067155</td>\n",
       "      <td>0.181830</td>\n",
       "    </tr>\n",
       "    <tr>\n",
       "      <th>9997</th>\n",
       "      <td>Female</td>\n",
       "      <td>63.867992</td>\n",
       "      <td>-0.649655</td>\n",
       "    </tr>\n",
       "    <tr>\n",
       "      <th>9998</th>\n",
       "      <td>Female</td>\n",
       "      <td>69.034243</td>\n",
       "      <td>0.693090</td>\n",
       "    </tr>\n",
       "    <tr>\n",
       "      <th>9999</th>\n",
       "      <td>Female</td>\n",
       "      <td>61.944246</td>\n",
       "      <td>-1.149651</td>\n",
       "    </tr>\n",
       "  </tbody>\n",
       "</table>\n",
       "<p>10000 rows × 3 columns</p>\n",
       "</div>"
      ],
      "text/plain": [
       "      gender     height    zscore\n",
       "0       Male  73.847017  1.943964\n",
       "1       Male  68.781904  0.627505\n",
       "2       Male  74.110105  2.012343\n",
       "3       Male  71.730978  1.393991\n",
       "4       Male  69.881796  0.913375\n",
       "...      ...        ...       ...\n",
       "9995  Female  66.172652 -0.050658\n",
       "9996  Female  67.067155  0.181830\n",
       "9997  Female  63.867992 -0.649655\n",
       "9998  Female  69.034243  0.693090\n",
       "9999  Female  61.944246 -1.149651\n",
       "\n",
       "[10000 rows x 3 columns]"
      ]
     },
     "execution_count": 20,
     "metadata": {},
     "output_type": "execute_result"
    }
   ],
   "source": [
    "df_height"
   ]
  },
  {
   "cell_type": "markdown",
   "id": "a3fad1cf-93ad-4b94-a3d1-3dc355657a3f",
   "metadata": {},
   "source": [
    "### Outlier removal with z score"
   ]
  },
  {
   "cell_type": "code",
   "execution_count": 21,
   "id": "1201396f-e485-47ac-ae6e-6a2ef0741b85",
   "metadata": {},
   "outputs": [
    {
     "data": {
      "text/html": [
       "<div>\n",
       "<style scoped>\n",
       "    .dataframe tbody tr th:only-of-type {\n",
       "        vertical-align: middle;\n",
       "    }\n",
       "\n",
       "    .dataframe tbody tr th {\n",
       "        vertical-align: top;\n",
       "    }\n",
       "\n",
       "    .dataframe thead th {\n",
       "        text-align: right;\n",
       "    }\n",
       "</style>\n",
       "<table border=\"1\" class=\"dataframe\">\n",
       "  <thead>\n",
       "    <tr style=\"text-align: right;\">\n",
       "      <th></th>\n",
       "      <th>gender</th>\n",
       "      <th>height</th>\n",
       "      <th>zscore</th>\n",
       "    </tr>\n",
       "  </thead>\n",
       "  <tbody>\n",
       "    <tr>\n",
       "      <th>994</th>\n",
       "      <td>Male</td>\n",
       "      <td>78.095867</td>\n",
       "      <td>3.048271</td>\n",
       "    </tr>\n",
       "    <tr>\n",
       "      <th>1317</th>\n",
       "      <td>Male</td>\n",
       "      <td>78.462053</td>\n",
       "      <td>3.143445</td>\n",
       "    </tr>\n",
       "    <tr>\n",
       "      <th>2014</th>\n",
       "      <td>Male</td>\n",
       "      <td>78.998742</td>\n",
       "      <td>3.282934</td>\n",
       "    </tr>\n",
       "    <tr>\n",
       "      <th>3285</th>\n",
       "      <td>Male</td>\n",
       "      <td>78.528210</td>\n",
       "      <td>3.160640</td>\n",
       "    </tr>\n",
       "    <tr>\n",
       "      <th>3757</th>\n",
       "      <td>Male</td>\n",
       "      <td>78.621374</td>\n",
       "      <td>3.184854</td>\n",
       "    </tr>\n",
       "    <tr>\n",
       "      <th>6624</th>\n",
       "      <td>Female</td>\n",
       "      <td>54.616858</td>\n",
       "      <td>-3.054091</td>\n",
       "    </tr>\n",
       "    <tr>\n",
       "      <th>9285</th>\n",
       "      <td>Female</td>\n",
       "      <td>54.263133</td>\n",
       "      <td>-3.146027</td>\n",
       "    </tr>\n",
       "  </tbody>\n",
       "</table>\n",
       "</div>"
      ],
      "text/plain": [
       "      gender     height    zscore\n",
       "994     Male  78.095867  3.048271\n",
       "1317    Male  78.462053  3.143445\n",
       "2014    Male  78.998742  3.282934\n",
       "3285    Male  78.528210  3.160640\n",
       "3757    Male  78.621374  3.184854\n",
       "6624  Female  54.616858 -3.054091\n",
       "9285  Female  54.263133 -3.146027"
      ]
     },
     "execution_count": 21,
     "metadata": {},
     "output_type": "execute_result"
    }
   ],
   "source": [
    "df_height[(df_height.zscore < -3) | (df_height.zscore > 3)]"
   ]
  },
  {
   "cell_type": "code",
   "execution_count": 22,
   "id": "92b84c68-0028-4924-a0cf-c0cc25585404",
   "metadata": {},
   "outputs": [
    {
     "data": {
      "text/plain": [
       "(9993, 3)"
      ]
     },
     "execution_count": 22,
     "metadata": {},
     "output_type": "execute_result"
    }
   ],
   "source": [
    "df_no_outlier = df_height[(df_height.zscore > -3) & (df_height.zscore < 3)]\n",
    "df_no_outlier.shape"
   ]
  },
  {
   "cell_type": "code",
   "execution_count": 23,
   "id": "3b590c48-f47b-4b08-b529-4da37bc9a0cb",
   "metadata": {},
   "outputs": [
    {
     "name": "stderr",
     "output_type": "stream",
     "text": [
      "C:\\Users\\Banji\\anaconda3\\Lib\\site-packages\\seaborn\\_oldcore.py:1119: FutureWarning: use_inf_as_na option is deprecated and will be removed in a future version. Convert inf values to NaN before operating instead.\n",
      "  with pd.option_context('mode.use_inf_as_na', True):\n"
     ]
    },
    {
     "data": {
      "image/png": "[encoded data removed]",
      "text/plain": [
       "<Figure size 640x480 with 1 Axes>"
      ]
     },
     "metadata": {},
     "output_type": "display_data"
    }
   ],
   "source": [
    "sb.histplot(df_no_outlier.zscore, kde=True)\n",
    "plt.title('Distribution of Zscore Values')\n",
    "plt.show();"
   ]
  },
  {
   "cell_type": "markdown",
   "id": "074a5572-4a32-4a59-89a9-40c9d3d24461",
   "metadata": {},
   "source": [
    "## Exercise"
   ]
  },
  {
   "cell_type": "code",
   "execution_count": 26,
   "id": "7e1a519e-8408-4b76-80b2-abcd724a9cc8",
   "metadata": {},
   "outputs": [],
   "source": [
    "df_wgt = df_[['Gender', 'Weight']]"
   ]
  },
  {
   "cell_type": "code",
   "execution_count": 27,
   "id": "c3b52d9f-2a8b-4f8d-bf0d-b708db438e00",
   "metadata": {},
   "outputs": [
    {
     "data": {
      "text/html": [
       "<div>\n",
       "<style scoped>\n",
       "    .dataframe tbody tr th:only-of-type {\n",
       "        vertical-align: middle;\n",
       "    }\n",
       "\n",
       "    .dataframe tbody tr th {\n",
       "        vertical-align: top;\n",
       "    }\n",
       "\n",
       "    .dataframe thead th {\n",
       "        text-align: right;\n",
       "    }\n",
       "</style>\n",
       "<table border=\"1\" class=\"dataframe\">\n",
       "  <thead>\n",
       "    <tr style=\"text-align: right;\">\n",
       "      <th></th>\n",
       "      <th>Gender</th>\n",
       "      <th>Weight</th>\n",
       "    </tr>\n",
       "  </thead>\n",
       "  <tbody>\n",
       "    <tr>\n",
       "      <th>0</th>\n",
       "      <td>Male</td>\n",
       "      <td>241.893563</td>\n",
       "    </tr>\n",
       "    <tr>\n",
       "      <th>1</th>\n",
       "      <td>Male</td>\n",
       "      <td>162.310473</td>\n",
       "    </tr>\n",
       "    <tr>\n",
       "      <th>2</th>\n",
       "      <td>Male</td>\n",
       "      <td>212.740856</td>\n",
       "    </tr>\n",
       "    <tr>\n",
       "      <th>3</th>\n",
       "      <td>Male</td>\n",
       "      <td>220.042470</td>\n",
       "    </tr>\n",
       "    <tr>\n",
       "      <th>4</th>\n",
       "      <td>Male</td>\n",
       "      <td>206.349801</td>\n",
       "    </tr>\n",
       "    <tr>\n",
       "      <th>...</th>\n",
       "      <td>...</td>\n",
       "      <td>...</td>\n",
       "    </tr>\n",
       "    <tr>\n",
       "      <th>9995</th>\n",
       "      <td>Female</td>\n",
       "      <td>136.777454</td>\n",
       "    </tr>\n",
       "    <tr>\n",
       "      <th>9996</th>\n",
       "      <td>Female</td>\n",
       "      <td>170.867906</td>\n",
       "    </tr>\n",
       "    <tr>\n",
       "      <th>9997</th>\n",
       "      <td>Female</td>\n",
       "      <td>128.475319</td>\n",
       "    </tr>\n",
       "    <tr>\n",
       "      <th>9998</th>\n",
       "      <td>Female</td>\n",
       "      <td>163.852461</td>\n",
       "    </tr>\n",
       "    <tr>\n",
       "      <th>9999</th>\n",
       "      <td>Female</td>\n",
       "      <td>113.649103</td>\n",
       "    </tr>\n",
       "  </tbody>\n",
       "</table>\n",
       "<p>10000 rows × 2 columns</p>\n",
       "</div>"
      ],
      "text/plain": [
       "      Gender      Weight\n",
       "0       Male  241.893563\n",
       "1       Male  162.310473\n",
       "2       Male  212.740856\n",
       "3       Male  220.042470\n",
       "4       Male  206.349801\n",
       "...      ...         ...\n",
       "9995  Female  136.777454\n",
       "9996  Female  170.867906\n",
       "9997  Female  128.475319\n",
       "9998  Female  163.852461\n",
       "9999  Female  113.649103\n",
       "\n",
       "[10000 rows x 2 columns]"
      ]
     },
     "execution_count": 27,
     "metadata": {},
     "output_type": "execute_result"
    }
   ],
   "source": [
    "df_wgt"
   ]
  },
  {
   "cell_type": "code",
   "execution_count": 30,
   "id": "95b567e7-6491-46fa-82c8-38d874b22b67",
   "metadata": {},
   "outputs": [],
   "source": [
    "df_wgt.columns = df_wgt.columns.str.lower()"
   ]
  },
  {
   "cell_type": "code",
   "execution_count": 31,
   "id": "cecb7251-8882-453e-af05-4dc906657bfb",
   "metadata": {},
   "outputs": [
    {
     "data": {
      "text/html": [
       "<div>\n",
       "<style scoped>\n",
       "    .dataframe tbody tr th:only-of-type {\n",
       "        vertical-align: middle;\n",
       "    }\n",
       "\n",
       "    .dataframe tbody tr th {\n",
       "        vertical-align: top;\n",
       "    }\n",
       "\n",
       "    .dataframe thead th {\n",
       "        text-align: right;\n",
       "    }\n",
       "</style>\n",
       "<table border=\"1\" class=\"dataframe\">\n",
       "  <thead>\n",
       "    <tr style=\"text-align: right;\">\n",
       "      <th></th>\n",
       "      <th>gender</th>\n",
       "      <th>weight</th>\n",
       "    </tr>\n",
       "  </thead>\n",
       "  <tbody>\n",
       "    <tr>\n",
       "      <th>0</th>\n",
       "      <td>Male</td>\n",
       "      <td>241.893563</td>\n",
       "    </tr>\n",
       "    <tr>\n",
       "      <th>1</th>\n",
       "      <td>Male</td>\n",
       "      <td>162.310473</td>\n",
       "    </tr>\n",
       "    <tr>\n",
       "      <th>2</th>\n",
       "      <td>Male</td>\n",
       "      <td>212.740856</td>\n",
       "    </tr>\n",
       "    <tr>\n",
       "      <th>3</th>\n",
       "      <td>Male</td>\n",
       "      <td>220.042470</td>\n",
       "    </tr>\n",
       "    <tr>\n",
       "      <th>4</th>\n",
       "      <td>Male</td>\n",
       "      <td>206.349801</td>\n",
       "    </tr>\n",
       "    <tr>\n",
       "      <th>...</th>\n",
       "      <td>...</td>\n",
       "      <td>...</td>\n",
       "    </tr>\n",
       "    <tr>\n",
       "      <th>9995</th>\n",
       "      <td>Female</td>\n",
       "      <td>136.777454</td>\n",
       "    </tr>\n",
       "    <tr>\n",
       "      <th>9996</th>\n",
       "      <td>Female</td>\n",
       "      <td>170.867906</td>\n",
       "    </tr>\n",
       "    <tr>\n",
       "      <th>9997</th>\n",
       "      <td>Female</td>\n",
       "      <td>128.475319</td>\n",
       "    </tr>\n",
       "    <tr>\n",
       "      <th>9998</th>\n",
       "      <td>Female</td>\n",
       "      <td>163.852461</td>\n",
       "    </tr>\n",
       "    <tr>\n",
       "      <th>9999</th>\n",
       "      <td>Female</td>\n",
       "      <td>113.649103</td>\n",
       "    </tr>\n",
       "  </tbody>\n",
       "</table>\n",
       "<p>10000 rows × 2 columns</p>\n",
       "</div>"
      ],
      "text/plain": [
       "      gender      weight\n",
       "0       Male  241.893563\n",
       "1       Male  162.310473\n",
       "2       Male  212.740856\n",
       "3       Male  220.042470\n",
       "4       Male  206.349801\n",
       "...      ...         ...\n",
       "9995  Female  136.777454\n",
       "9996  Female  170.867906\n",
       "9997  Female  128.475319\n",
       "9998  Female  163.852461\n",
       "9999  Female  113.649103\n",
       "\n",
       "[10000 rows x 2 columns]"
      ]
     },
     "execution_count": 31,
     "metadata": {},
     "output_type": "execute_result"
    }
   ],
   "source": [
    "df_wgt"
   ]
  },
  {
   "cell_type": "code",
   "execution_count": 32,
   "id": "98e5b59d-f2d8-4bfa-8f5d-577a74eedece",
   "metadata": {},
   "outputs": [
    {
     "name": "stderr",
     "output_type": "stream",
     "text": [
      "C:\\Users\\Banji\\anaconda3\\Lib\\site-packages\\seaborn\\_oldcore.py:1119: FutureWarning: use_inf_as_na option is deprecated and will be removed in a future version. Convert inf values to NaN before operating instead.\n",
      "  with pd.option_context('mode.use_inf_as_na', True):\n"
     ]
    },
    {
     "data": {
      "image/png": "[encoded data removed]",
      "text/plain": [
       "<Figure size 640x480 with 1 Axes>"
      ]
     },
     "metadata": {},
     "output_type": "display_data"
    }
   ],
   "source": [
    "sb.histplot(df_wgt.weight, kde = True)\n",
    "plt.title('Distribution of Weight');"
   ]
  },
  {
   "cell_type": "markdown",
   "id": "07531887-fd69-4840-b010-fd9047a71d30",
   "metadata": {},
   "source": [
    "### Percentile calculations"
   ]
  },
  {
   "cell_type": "code",
   "execution_count": 33,
   "id": "5f8fc57d-9887-49a0-8607-233f2fb455e6",
   "metadata": {},
   "outputs": [
    {
     "data": {
      "text/plain": [
       "83.02597422539151"
      ]
     },
     "execution_count": 33,
     "metadata": {},
     "output_type": "execute_result"
    }
   ],
   "source": [
    "lower_qrt = df_wgt.weight.quantile(.001)\n",
    "lower_qrt"
   ]
  },
  {
   "cell_type": "code",
   "execution_count": 34,
   "id": "6b66bb29-1521-4e1f-adbe-43374f2b1540",
   "metadata": {},
   "outputs": [
    {
     "data": {
      "text/plain": [
       "249.11069698680208"
      ]
     },
     "execution_count": 34,
     "metadata": {},
     "output_type": "execute_result"
    }
   ],
   "source": [
    "higher_qrt = df_wgt.weight.quantile(.999)\n",
    "higher_qrt"
   ]
  },
  {
   "cell_type": "code",
   "execution_count": 35,
   "id": "1d083af9-299c-4aeb-b08b-c3102645ab4d",
   "metadata": {},
   "outputs": [
    {
     "data": {
      "text/html": [
       "<div>\n",
       "<style scoped>\n",
       "    .dataframe tbody tr th:only-of-type {\n",
       "        vertical-align: middle;\n",
       "    }\n",
       "\n",
       "    .dataframe tbody tr th {\n",
       "        vertical-align: top;\n",
       "    }\n",
       "\n",
       "    .dataframe thead th {\n",
       "        text-align: right;\n",
       "    }\n",
       "</style>\n",
       "<table border=\"1\" class=\"dataframe\">\n",
       "  <thead>\n",
       "    <tr style=\"text-align: right;\">\n",
       "      <th></th>\n",
       "      <th>gender</th>\n",
       "      <th>weight</th>\n",
       "    </tr>\n",
       "  </thead>\n",
       "  <tbody>\n",
       "    <tr>\n",
       "      <th>994</th>\n",
       "      <td>Male</td>\n",
       "      <td>255.690835</td>\n",
       "    </tr>\n",
       "    <tr>\n",
       "      <th>1506</th>\n",
       "      <td>Male</td>\n",
       "      <td>249.565628</td>\n",
       "    </tr>\n",
       "    <tr>\n",
       "      <th>1610</th>\n",
       "      <td>Male</td>\n",
       "      <td>255.863326</td>\n",
       "    </tr>\n",
       "    <tr>\n",
       "      <th>1750</th>\n",
       "      <td>Male</td>\n",
       "      <td>249.946283</td>\n",
       "    </tr>\n",
       "    <tr>\n",
       "      <th>2014</th>\n",
       "      <td>Male</td>\n",
       "      <td>269.989699</td>\n",
       "    </tr>\n",
       "    <tr>\n",
       "      <th>2070</th>\n",
       "      <td>Male</td>\n",
       "      <td>252.556689</td>\n",
       "    </tr>\n",
       "    <tr>\n",
       "      <th>2971</th>\n",
       "      <td>Male</td>\n",
       "      <td>250.317151</td>\n",
       "    </tr>\n",
       "    <tr>\n",
       "      <th>3285</th>\n",
       "      <td>Male</td>\n",
       "      <td>253.889004</td>\n",
       "    </tr>\n",
       "    <tr>\n",
       "      <th>3669</th>\n",
       "      <td>Male</td>\n",
       "      <td>251.425051</td>\n",
       "    </tr>\n",
       "    <tr>\n",
       "      <th>4331</th>\n",
       "      <td>Male</td>\n",
       "      <td>254.209073</td>\n",
       "    </tr>\n",
       "    <tr>\n",
       "      <th>5360</th>\n",
       "      <td>Female</td>\n",
       "      <td>68.982530</td>\n",
       "    </tr>\n",
       "    <tr>\n",
       "      <th>5740</th>\n",
       "      <td>Female</td>\n",
       "      <td>80.531259</td>\n",
       "    </tr>\n",
       "    <tr>\n",
       "      <th>6624</th>\n",
       "      <td>Female</td>\n",
       "      <td>71.393749</td>\n",
       "    </tr>\n",
       "    <tr>\n",
       "      <th>6982</th>\n",
       "      <td>Female</td>\n",
       "      <td>79.174376</td>\n",
       "    </tr>\n",
       "    <tr>\n",
       "      <th>7294</th>\n",
       "      <td>Female</td>\n",
       "      <td>78.606670</td>\n",
       "    </tr>\n",
       "    <tr>\n",
       "      <th>7935</th>\n",
       "      <td>Female</td>\n",
       "      <td>77.523774</td>\n",
       "    </tr>\n",
       "    <tr>\n",
       "      <th>8180</th>\n",
       "      <td>Female</td>\n",
       "      <td>82.198488</td>\n",
       "    </tr>\n",
       "    <tr>\n",
       "      <th>8241</th>\n",
       "      <td>Female</td>\n",
       "      <td>77.898559</td>\n",
       "    </tr>\n",
       "    <tr>\n",
       "      <th>9285</th>\n",
       "      <td>Female</td>\n",
       "      <td>64.700127</td>\n",
       "    </tr>\n",
       "    <tr>\n",
       "      <th>9566</th>\n",
       "      <td>Female</td>\n",
       "      <td>72.750145</td>\n",
       "    </tr>\n",
       "  </tbody>\n",
       "</table>\n",
       "</div>"
      ],
      "text/plain": [
       "      gender      weight\n",
       "994     Male  255.690835\n",
       "1506    Male  249.565628\n",
       "1610    Male  255.863326\n",
       "1750    Male  249.946283\n",
       "2014    Male  269.989699\n",
       "2070    Male  252.556689\n",
       "2971    Male  250.317151\n",
       "3285    Male  253.889004\n",
       "3669    Male  251.425051\n",
       "4331    Male  254.209073\n",
       "5360  Female   68.982530\n",
       "5740  Female   80.531259\n",
       "6624  Female   71.393749\n",
       "6982  Female   79.174376\n",
       "7294  Female   78.606670\n",
       "7935  Female   77.523774\n",
       "8180  Female   82.198488\n",
       "8241  Female   77.898559\n",
       "9285  Female   64.700127\n",
       "9566  Female   72.750145"
      ]
     },
     "execution_count": 35,
     "metadata": {},
     "output_type": "execute_result"
    }
   ],
   "source": [
    "df_wgt[(df_wgt.weight < lower_qrt) | (df_wgt.weight > higher_qrt)]"
   ]
  },
  {
   "cell_type": "code",
   "execution_count": 36,
   "id": "b7497a58-592e-41b0-8689-648ecd97e7c9",
   "metadata": {},
   "outputs": [
    {
     "data": {
      "text/plain": [
       "(9980, 2)"
      ]
     },
     "execution_count": 36,
     "metadata": {},
     "output_type": "execute_result"
    }
   ],
   "source": [
    "df_wgt_no_outlier = df_wgt[(df_wgt.weight > lower_qrt) & (df_wgt.weight < higher_qrt)]\n",
    "df_wgt_no_outlier.shape"
   ]
  },
  {
   "cell_type": "code",
   "execution_count": 37,
   "id": "25bf0636-b108-42bf-997a-873ab5835fee",
   "metadata": {},
   "outputs": [
    {
     "name": "stderr",
     "output_type": "stream",
     "text": [
      "C:\\Users\\Banji\\anaconda3\\Lib\\site-packages\\seaborn\\_oldcore.py:1119: FutureWarning: use_inf_as_na option is deprecated and will be removed in a future version. Convert inf values to NaN before operating instead.\n",
      "  with pd.option_context('mode.use_inf_as_na', True):\n"
     ]
    },
    {
     "data": {
      "image/png": "[encoded data removed]",
      "text/plain": [
       "<Figure size 640x480 with 1 Axes>"
      ]
     },
     "metadata": {},
     "output_type": "display_data"
    }
   ],
   "source": [
    "sb.histplot(df_wgt_no_outlier.weight, kde = True, color='b')\n",
    "plt.title('Distribution of Weight Without Outliers');"
   ]
  },
  {
   "cell_type": "markdown",
   "id": "36f7badf-68f0-4bc4-ae64-e975b3af0970",
   "metadata": {},
   "source": [
    "## Outliers Removal with Standard Deviation"
   ]
  },
  {
   "cell_type": "code",
   "execution_count": 38,
   "id": "18cc662a-1b58-4591-ab70-cb9176e70eff",
   "metadata": {},
   "outputs": [
    {
     "data": {
      "text/plain": [
       "32.108439006519546"
      ]
     },
     "execution_count": 38,
     "metadata": {},
     "output_type": "execute_result"
    }
   ],
   "source": [
    "std_w = df_wgt.weight.std()\n",
    "std_w"
   ]
  },
  {
   "cell_type": "code",
   "execution_count": 39,
   "id": "cc026770-0ae9-4833-bac8-1ebc1ef9b37f",
   "metadata": {},
   "outputs": [
    {
     "data": {
      "text/plain": [
       "161.44035683283076"
      ]
     },
     "execution_count": 39,
     "metadata": {},
     "output_type": "execute_result"
    }
   ],
   "source": [
    "mean_w = df_wgt.weight.mean()\n",
    "mean_w"
   ]
  },
  {
   "cell_type": "code",
   "execution_count": 40,
   "id": "49768b75-1202-41b9-ac7b-cc0f6f62e4db",
   "metadata": {},
   "outputs": [
    {
     "data": {
      "text/plain": [
       "65.11503981327212"
      ]
     },
     "execution_count": 40,
     "metadata": {},
     "output_type": "execute_result"
    }
   ],
   "source": [
    "values_below_3std = mean_w - (3 * std_w)\n",
    "values_below_3std"
   ]
  },
  {
   "cell_type": "code",
   "execution_count": 41,
   "id": "87912e57-d6d8-4088-b798-403467e82ae9",
   "metadata": {},
   "outputs": [
    {
     "data": {
      "text/plain": [
       "257.7656738523894"
      ]
     },
     "execution_count": 41,
     "metadata": {},
     "output_type": "execute_result"
    }
   ],
   "source": [
    "values_above_3std = mean_w + (3 * std_w)\n",
    "values_above_3std"
   ]
  },
  {
   "cell_type": "code",
   "execution_count": 42,
   "id": "3ae3162a-4522-4e1c-8e1c-2d45e725e373",
   "metadata": {},
   "outputs": [
    {
     "data": {
      "text/html": [
       "<div>\n",
       "<style scoped>\n",
       "    .dataframe tbody tr th:only-of-type {\n",
       "        vertical-align: middle;\n",
       "    }\n",
       "\n",
       "    .dataframe tbody tr th {\n",
       "        vertical-align: top;\n",
       "    }\n",
       "\n",
       "    .dataframe thead th {\n",
       "        text-align: right;\n",
       "    }\n",
       "</style>\n",
       "<table border=\"1\" class=\"dataframe\">\n",
       "  <thead>\n",
       "    <tr style=\"text-align: right;\">\n",
       "      <th></th>\n",
       "      <th>gender</th>\n",
       "      <th>weight</th>\n",
       "    </tr>\n",
       "  </thead>\n",
       "  <tbody>\n",
       "    <tr>\n",
       "      <th>2014</th>\n",
       "      <td>Male</td>\n",
       "      <td>269.989699</td>\n",
       "    </tr>\n",
       "    <tr>\n",
       "      <th>9285</th>\n",
       "      <td>Female</td>\n",
       "      <td>64.700127</td>\n",
       "    </tr>\n",
       "  </tbody>\n",
       "</table>\n",
       "</div>"
      ],
      "text/plain": [
       "      gender      weight\n",
       "2014    Male  269.989699\n",
       "9285  Female   64.700127"
      ]
     },
     "execution_count": 42,
     "metadata": {},
     "output_type": "execute_result"
    }
   ],
   "source": [
    "df_wgt_outliers = df_wgt[(df_wgt.weight < values_below_3std) | (df_wgt.weight > values_above_3std)]\n",
    "df_wgt_outliers"
   ]
  },
  {
   "cell_type": "code",
   "execution_count": 44,
   "id": "b5377ada-1c86-4b14-b5c7-df7a35cd2fe6",
   "metadata": {},
   "outputs": [
    {
     "data": {
      "text/plain": [
       "(9998, 2)"
      ]
     },
     "execution_count": 44,
     "metadata": {},
     "output_type": "execute_result"
    }
   ],
   "source": [
    "df_wgt_no_outliers = df_wgt[(df_wgt.weight > values_below_3std) & (df_wgt.weight < values_above_3std)]\n",
    "df_wgt_no_outliers.shape"
   ]
  },
  {
   "cell_type": "code",
   "execution_count": 45,
   "id": "f5753b07-2aa2-49bd-a29d-11e03f132453",
   "metadata": {},
   "outputs": [
    {
     "name": "stderr",
     "output_type": "stream",
     "text": [
      "C:\\Users\\Banji\\anaconda3\\Lib\\site-packages\\seaborn\\_oldcore.py:1119: FutureWarning: use_inf_as_na option is deprecated and will be removed in a future version. Convert inf values to NaN before operating instead.\n",
      "  with pd.option_context('mode.use_inf_as_na', True):\n"
     ]
    },
    {
     "data": {
      "text/plain": [
       "<Axes: xlabel='weight', ylabel='Count'>"
      ]
     },
     "execution_count": 45,
     "metadata": {},
     "output_type": "execute_result"
    },
    {
     "data": {
      "image/png": "[encoded data removed]",
      "text/plain": [
       "<Figure size 640x480 with 1 Axes>"
      ]
     },
     "metadata": {},
     "output_type": "display_data"
    }
   ],
   "source": [
    "sb.histplot(df_wgt_no_outliers.weight, kde = True)"
   ]
  },
  {
   "cell_type": "markdown",
   "id": "603fa917-5ce8-440d-88de-3568a35ac4f9",
   "metadata": {},
   "source": [
    "## Outliers Removal with  Z Score"
   ]
  },
  {
   "cell_type": "code",
   "execution_count": 46,
   "id": "79aaf80e-9ff9-40ba-a327-0595db9ad818",
   "metadata": {},
   "outputs": [
    {
     "data": {
      "text/html": [
       "<div>\n",
       "<style scoped>\n",
       "    .dataframe tbody tr th:only-of-type {\n",
       "        vertical-align: middle;\n",
       "    }\n",
       "\n",
       "    .dataframe tbody tr th {\n",
       "        vertical-align: top;\n",
       "    }\n",
       "\n",
       "    .dataframe thead th {\n",
       "        text-align: right;\n",
       "    }\n",
       "</style>\n",
       "<table border=\"1\" class=\"dataframe\">\n",
       "  <thead>\n",
       "    <tr style=\"text-align: right;\">\n",
       "      <th></th>\n",
       "      <th>gender</th>\n",
       "      <th>weight</th>\n",
       "      <th>zscore</th>\n",
       "    </tr>\n",
       "  </thead>\n",
       "  <tbody>\n",
       "    <tr>\n",
       "      <th>0</th>\n",
       "      <td>Male</td>\n",
       "      <td>241.893563</td>\n",
       "      <td>2.505672</td>\n",
       "    </tr>\n",
       "    <tr>\n",
       "      <th>1</th>\n",
       "      <td>Male</td>\n",
       "      <td>162.310473</td>\n",
       "      <td>0.027099</td>\n",
       "    </tr>\n",
       "    <tr>\n",
       "      <th>2</th>\n",
       "      <td>Male</td>\n",
       "      <td>212.740856</td>\n",
       "      <td>1.597726</td>\n",
       "    </tr>\n",
       "    <tr>\n",
       "      <th>3</th>\n",
       "      <td>Male</td>\n",
       "      <td>220.042470</td>\n",
       "      <td>1.825131</td>\n",
       "    </tr>\n",
       "    <tr>\n",
       "      <th>4</th>\n",
       "      <td>Male</td>\n",
       "      <td>206.349801</td>\n",
       "      <td>1.398680</td>\n",
       "    </tr>\n",
       "    <tr>\n",
       "      <th>...</th>\n",
       "      <td>...</td>\n",
       "      <td>...</td>\n",
       "      <td>...</td>\n",
       "    </tr>\n",
       "    <tr>\n",
       "      <th>9995</th>\n",
       "      <td>Female</td>\n",
       "      <td>136.777454</td>\n",
       "      <td>-0.768113</td>\n",
       "    </tr>\n",
       "    <tr>\n",
       "      <th>9996</th>\n",
       "      <td>Female</td>\n",
       "      <td>170.867906</td>\n",
       "      <td>0.293616</td>\n",
       "    </tr>\n",
       "    <tr>\n",
       "      <th>9997</th>\n",
       "      <td>Female</td>\n",
       "      <td>128.475319</td>\n",
       "      <td>-1.026678</td>\n",
       "    </tr>\n",
       "    <tr>\n",
       "      <th>9998</th>\n",
       "      <td>Female</td>\n",
       "      <td>163.852461</td>\n",
       "      <td>0.075124</td>\n",
       "    </tr>\n",
       "    <tr>\n",
       "      <th>9999</th>\n",
       "      <td>Female</td>\n",
       "      <td>113.649103</td>\n",
       "      <td>-1.488433</td>\n",
       "    </tr>\n",
       "  </tbody>\n",
       "</table>\n",
       "<p>10000 rows × 3 columns</p>\n",
       "</div>"
      ],
      "text/plain": [
       "      gender      weight    zscore\n",
       "0       Male  241.893563  2.505672\n",
       "1       Male  162.310473  0.027099\n",
       "2       Male  212.740856  1.597726\n",
       "3       Male  220.042470  1.825131\n",
       "4       Male  206.349801  1.398680\n",
       "...      ...         ...       ...\n",
       "9995  Female  136.777454 -0.768113\n",
       "9996  Female  170.867906  0.293616\n",
       "9997  Female  128.475319 -1.026678\n",
       "9998  Female  163.852461  0.075124\n",
       "9999  Female  113.649103 -1.488433\n",
       "\n",
       "[10000 rows x 3 columns]"
      ]
     },
     "execution_count": 46,
     "metadata": {},
     "output_type": "execute_result"
    }
   ],
   "source": [
    "df_wgt['zscore'] = (df_wgt.weight - df_wgt.weight.mean()) / df_wgt.weight.std()\n",
    "df_wgt= df_wgt[['gender', 'weight', 'zscore']]\n",
    "df_wgt"
   ]
  },
  {
   "cell_type": "code",
   "execution_count": 47,
   "id": "93ff7ccb-5794-44e0-8482-dd1ffb0db4ef",
   "metadata": {},
   "outputs": [
    {
     "data": {
      "text/html": [
       "<div>\n",
       "<style scoped>\n",
       "    .dataframe tbody tr th:only-of-type {\n",
       "        vertical-align: middle;\n",
       "    }\n",
       "\n",
       "    .dataframe tbody tr th {\n",
       "        vertical-align: top;\n",
       "    }\n",
       "\n",
       "    .dataframe thead th {\n",
       "        text-align: right;\n",
       "    }\n",
       "</style>\n",
       "<table border=\"1\" class=\"dataframe\">\n",
       "  <thead>\n",
       "    <tr style=\"text-align: right;\">\n",
       "      <th></th>\n",
       "      <th>gender</th>\n",
       "      <th>weight</th>\n",
       "      <th>zscore</th>\n",
       "    </tr>\n",
       "  </thead>\n",
       "  <tbody>\n",
       "    <tr>\n",
       "      <th>2014</th>\n",
       "      <td>Male</td>\n",
       "      <td>269.989699</td>\n",
       "      <td>3.380711</td>\n",
       "    </tr>\n",
       "    <tr>\n",
       "      <th>9285</th>\n",
       "      <td>Female</td>\n",
       "      <td>64.700127</td>\n",
       "      <td>-3.012922</td>\n",
       "    </tr>\n",
       "  </tbody>\n",
       "</table>\n",
       "</div>"
      ],
      "text/plain": [
       "      gender      weight    zscore\n",
       "2014    Male  269.989699  3.380711\n",
       "9285  Female   64.700127 -3.012922"
      ]
     },
     "execution_count": 47,
     "metadata": {},
     "output_type": "execute_result"
    }
   ],
   "source": [
    "df_wgt[(df_wgt.zscore < -3) | (df_wgt.zscore > 3)]"
   ]
  },
  {
   "cell_type": "code",
   "execution_count": 48,
   "id": "11fb3408-5671-4974-872f-6b241c644812",
   "metadata": {},
   "outputs": [
    {
     "data": {
      "text/html": [
       "<div>\n",
       "<style scoped>\n",
       "    .dataframe tbody tr th:only-of-type {\n",
       "        vertical-align: middle;\n",
       "    }\n",
       "\n",
       "    .dataframe tbody tr th {\n",
       "        vertical-align: top;\n",
       "    }\n",
       "\n",
       "    .dataframe thead th {\n",
       "        text-align: right;\n",
       "    }\n",
       "</style>\n",
       "<table border=\"1\" class=\"dataframe\">\n",
       "  <thead>\n",
       "    <tr style=\"text-align: right;\">\n",
       "      <th></th>\n",
       "      <th>gender</th>\n",
       "      <th>weight</th>\n",
       "      <th>zscore</th>\n",
       "    </tr>\n",
       "  </thead>\n",
       "  <tbody>\n",
       "    <tr>\n",
       "      <th>0</th>\n",
       "      <td>Male</td>\n",
       "      <td>241.893563</td>\n",
       "      <td>2.505672</td>\n",
       "    </tr>\n",
       "    <tr>\n",
       "      <th>1</th>\n",
       "      <td>Male</td>\n",
       "      <td>162.310473</td>\n",
       "      <td>0.027099</td>\n",
       "    </tr>\n",
       "    <tr>\n",
       "      <th>2</th>\n",
       "      <td>Male</td>\n",
       "      <td>212.740856</td>\n",
       "      <td>1.597726</td>\n",
       "    </tr>\n",
       "    <tr>\n",
       "      <th>3</th>\n",
       "      <td>Male</td>\n",
       "      <td>220.042470</td>\n",
       "      <td>1.825131</td>\n",
       "    </tr>\n",
       "    <tr>\n",
       "      <th>4</th>\n",
       "      <td>Male</td>\n",
       "      <td>206.349801</td>\n",
       "      <td>1.398680</td>\n",
       "    </tr>\n",
       "    <tr>\n",
       "      <th>...</th>\n",
       "      <td>...</td>\n",
       "      <td>...</td>\n",
       "      <td>...</td>\n",
       "    </tr>\n",
       "    <tr>\n",
       "      <th>9995</th>\n",
       "      <td>Female</td>\n",
       "      <td>136.777454</td>\n",
       "      <td>-0.768113</td>\n",
       "    </tr>\n",
       "    <tr>\n",
       "      <th>9996</th>\n",
       "      <td>Female</td>\n",
       "      <td>170.867906</td>\n",
       "      <td>0.293616</td>\n",
       "    </tr>\n",
       "    <tr>\n",
       "      <th>9997</th>\n",
       "      <td>Female</td>\n",
       "      <td>128.475319</td>\n",
       "      <td>-1.026678</td>\n",
       "    </tr>\n",
       "    <tr>\n",
       "      <th>9998</th>\n",
       "      <td>Female</td>\n",
       "      <td>163.852461</td>\n",
       "      <td>0.075124</td>\n",
       "    </tr>\n",
       "    <tr>\n",
       "      <th>9999</th>\n",
       "      <td>Female</td>\n",
       "      <td>113.649103</td>\n",
       "      <td>-1.488433</td>\n",
       "    </tr>\n",
       "  </tbody>\n",
       "</table>\n",
       "<p>9998 rows × 3 columns</p>\n",
       "</div>"
      ],
      "text/plain": [
       "      gender      weight    zscore\n",
       "0       Male  241.893563  2.505672\n",
       "1       Male  162.310473  0.027099\n",
       "2       Male  212.740856  1.597726\n",
       "3       Male  220.042470  1.825131\n",
       "4       Male  206.349801  1.398680\n",
       "...      ...         ...       ...\n",
       "9995  Female  136.777454 -0.768113\n",
       "9996  Female  170.867906  0.293616\n",
       "9997  Female  128.475319 -1.026678\n",
       "9998  Female  163.852461  0.075124\n",
       "9999  Female  113.649103 -1.488433\n",
       "\n",
       "[9998 rows x 3 columns]"
      ]
     },
     "execution_count": 48,
     "metadata": {},
     "output_type": "execute_result"
    }
   ],
   "source": [
    "df_wgt_no_outliers = df_wgt[(df_wgt.zscore > -3) & (df_wgt.zscore < 3)]\n",
    "df_wgt_no_outliers"
   ]
  },
  {
   "cell_type": "code",
   "execution_count": 51,
   "id": "0675dfa4-3d4f-4bde-96f9-bef5a633856d",
   "metadata": {},
   "outputs": [
    {
     "name": "stderr",
     "output_type": "stream",
     "text": [
      "C:\\Users\\Banji\\anaconda3\\Lib\\site-packages\\seaborn\\_oldcore.py:1119: FutureWarning: use_inf_as_na option is deprecated and will be removed in a future version. Convert inf values to NaN before operating instead.\n",
      "  with pd.option_context('mode.use_inf_as_na', True):\n"
     ]
    },
    {
     "data": {
      "text/plain": [
       "Text(0.5, 1.0, 'DIstribution of Z Score Datapoints')"
      ]
     },
     "execution_count": 51,
     "metadata": {},
     "output_type": "execute_result"
    },
    {
     "data": {
      "image/png": "[encoded data removed]",
      "text/plain": [
       "<Figure size 640x480 with 1 Axes>"
      ]
     },
     "metadata": {},
     "output_type": "display_data"
    }
   ],
   "source": [
    "plt = sb.histplot(df_wgt_no_outliers.zscore, kde = True)\n",
    "plt.set_title(\"DIstribution of Z Score Datapoints\", loc = 'center')"
   ]
  },
  {
   "cell_type": "code",
   "execution_count": null,
   "id": "74947b80-6a32-451d-9ca4-ecf0c804493b",
   "metadata": {},
   "outputs": [],
   "source": []
  }
 ],
 "metadata": {
  "kernelspec": {
   "display_name": "Python 3 (ipykernel)",
   "language": "python",
   "name": "python3"
  },
  "language_info": {
   "codemirror_mode": {
    "name": "ipython",
    "version": 3
   },
   "file_extension": ".py",
   "mimetype": "text/x-python",
   "name": "python",
   "nbconvert_exporter": "python",
   "pygments_lexer": "ipython3",
   "version": "3.11.7"
  }
 },
 "nbformat": 4,
 "nbformat_minor": 5
}
