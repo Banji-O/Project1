{
 "cells": [
  {
   "cell_type": "code",
   "execution_count": 1,
   "id": "977d5dd7-daa2-4c4d-bf01-e19cf7ca1895",
   "metadata": {},
   "outputs": [],
   "source": [
    "import pandas as pd\n",
    "import numpy as np"
   ]
  },
  {
   "cell_type": "code",
   "execution_count": 2,
   "id": "5f5081e2-c551-44a6-a9b0-10b799d00179",
   "metadata": {},
   "outputs": [
    {
     "data": {
      "text/plain": [
       "106"
      ]
     },
     "execution_count": 2,
     "metadata": {},
     "output_type": "execute_result"
    }
   ],
   "source": [
    "df = pd.read_csv(\"AB_NYC_2019.csv\")\n",
    "\n",
    "# finding 5% percentile\n",
    "df.price.quantile(.5, interpolation=\"higher\")"
   ]
  },
  {
   "cell_type": "code",
   "execution_count": 3,
   "id": "b3472ddb-8020-48cc-a763-895992ba9e3c",
   "metadata": {},
   "outputs": [],
   "source": [
    "price_0 = df[df['price'] == 0 & df['neighbourhood_group'].isin(['Brooklyn', 'Bronx'])]"
   ]
  },
  {
   "cell_type": "code",
   "execution_count": 4,
   "id": "20c9d4d3-24e5-4d63-87c1-a3bba2497cd7",
   "metadata": {},
   "outputs": [
    {
     "data": {
      "text/plain": [
       "90.0"
      ]
     },
     "execution_count": 4,
     "metadata": {},
     "output_type": "execute_result"
    }
   ],
   "source": [
    "brok_price = df[df['neighbourhood_group'] =='Brooklyn']['price']\n",
    "brok_median = brok_price.median()\n",
    "brok_median"
   ]
  },
  {
   "cell_type": "code",
   "execution_count": 5,
   "id": "6e3ce022-e72a-4faa-a151-9706c486f0dc",
   "metadata": {},
   "outputs": [
    {
     "data": {
      "text/plain": [
       "65.0"
      ]
     },
     "execution_count": 5,
     "metadata": {},
     "output_type": "execute_result"
    }
   ],
   "source": [
    "bronx_price = df[df['neighbourhood_group'] == 'Bronx']['price']\n",
    "bronx_median = bronx_price.median()\n",
    "bronx_median"
   ]
  },
  {
   "cell_type": "code",
   "execution_count": 6,
   "id": "2e930fa2-bb52-49bf-b5a9-5204f4e471dc",
   "metadata": {},
   "outputs": [],
   "source": [
    "# Replace prices of Brooklyn that are zero with brooklyn median\n",
    "df.loc[(df['price'] == 0) & (df['neighbourhood_group'] == 'Brooklyn'), 'price'] = brok_median"
   ]
  },
  {
   "cell_type": "code",
   "execution_count": 7,
   "id": "8dd083f5-8e28-49c7-b9d2-eaf5fbbfecfa",
   "metadata": {},
   "outputs": [],
   "source": [
    "# Replace prices of Bronx that are zero with brooklyn median\n",
    "df.loc[(df['price'] == 0) & (df['neighbourhood_group'] == 'Bronx'), 'price'] = bronx_median"
   ]
  },
  {
   "cell_type": "code",
   "execution_count": 8,
   "id": "e05514fb-f72f-4f5d-b94b-5c4596054e70",
   "metadata": {},
   "outputs": [
    {
     "data": {
      "text/plain": [
       "150.0"
      ]
     },
     "execution_count": 8,
     "metadata": {},
     "output_type": "execute_result"
    }
   ],
   "source": [
    "df_0 = df[df.neighbourhood_group == 'Manhattan']\n",
    "df_m_median = df[df['neighbourhood_group'] == 'Manhattan']['price'].median()\n",
    "df_m_median"
   ]
  },
  {
   "cell_type": "code",
   "execution_count": 9,
   "id": "2537be49-c6ae-4230-879e-3d708dacaed7",
   "metadata": {},
   "outputs": [],
   "source": [
    "df.loc[(df['price'] == 0) & (df['neighbourhood_group'] == 'Manhattan'), 'price'] = df_m_median"
   ]
  },
  {
   "cell_type": "code",
   "execution_count": 10,
   "id": "77bc7128-1d18-4793-b380-4dffe3517fbc",
   "metadata": {},
   "outputs": [
    {
     "data": {
      "text/plain": [
       "673"
      ]
     },
     "execution_count": 10,
     "metadata": {},
     "output_type": "execute_result"
    }
   ],
   "source": [
    "nan = df['price'].nunique()\n",
    "nan"
   ]
  },
  {
   "cell_type": "code",
   "execution_count": 11,
   "id": "828c5f77-f43d-4881-8121-419b218d2055",
   "metadata": {},
   "outputs": [
    {
     "data": {
      "text/plain": [
       "0"
      ]
     },
     "execution_count": 11,
     "metadata": {},
     "output_type": "execute_result"
    }
   ],
   "source": [
    "dup = sum(df.duplicated())\n",
    "dup"
   ]
  },
  {
   "cell_type": "code",
   "execution_count": 12,
   "id": "f1a49d80-b23b-46d5-ab14-7ea3c7680cef",
   "metadata": {},
   "outputs": [],
   "source": [
    "bronx_isnul = df[df.price.isnull()]\n",
    "df.loc[(df['price']==0) & (df['neighbourhood_group'] == 'Bronx'), 'price'] = bronx_median"
   ]
  },
  {
   "cell_type": "code",
   "execution_count": 13,
   "id": "bc5cfdb4-f26d-4b34-b289-b8e9722e0aa7",
   "metadata": {},
   "outputs": [
    {
     "data": {
      "text/html": [
       "<div>\n",
       "<style scoped>\n",
       "    .dataframe tbody tr th:only-of-type {\n",
       "        vertical-align: middle;\n",
       "    }\n",
       "\n",
       "    .dataframe tbody tr th {\n",
       "        vertical-align: top;\n",
       "    }\n",
       "\n",
       "    .dataframe thead th {\n",
       "        text-align: right;\n",
       "    }\n",
       "</style>\n",
       "<table border=\"1\" class=\"dataframe\">\n",
       "  <thead>\n",
       "    <tr style=\"text-align: right;\">\n",
       "      <th></th>\n",
       "      <th>id</th>\n",
       "      <th>name</th>\n",
       "      <th>host_id</th>\n",
       "      <th>host_name</th>\n",
       "      <th>neighbourhood_group</th>\n",
       "      <th>neighbourhood</th>\n",
       "      <th>latitude</th>\n",
       "      <th>longitude</th>\n",
       "      <th>room_type</th>\n",
       "      <th>price</th>\n",
       "      <th>minimum_nights</th>\n",
       "      <th>number_of_reviews</th>\n",
       "      <th>last_review</th>\n",
       "      <th>reviews_per_month</th>\n",
       "      <th>calculated_host_listings_count</th>\n",
       "      <th>availability_365</th>\n",
       "    </tr>\n",
       "  </thead>\n",
       "  <tbody>\n",
       "  </tbody>\n",
       "</table>\n",
       "</div>"
      ],
      "text/plain": [
       "Empty DataFrame\n",
       "Columns: [id, name, host_id, host_name, neighbourhood_group, neighbourhood, latitude, longitude, room_type, price, minimum_nights, number_of_reviews, last_review, reviews_per_month, calculated_host_listings_count, availability_365]\n",
       "Index: []"
      ]
     },
     "execution_count": 13,
     "metadata": {},
     "output_type": "execute_result"
    }
   ],
   "source": [
    "df[df.price.isnull()]"
   ]
  },
  {
   "cell_type": "code",
   "execution_count": 16,
   "id": "221f69ea-9b29-4553-a459-73fe4ce91cb3",
   "metadata": {},
   "outputs": [
    {
     "data": {
      "text/plain": [
       "(48895, 16)"
      ]
     },
     "execution_count": 16,
     "metadata": {},
     "output_type": "execute_result"
    }
   ],
   "source": [
    "df.shape"
   ]
  },
  {
   "cell_type": "code",
   "execution_count": 15,
   "id": "f5b23b56-5f82-4713-9fa6-40a6d2c52291",
   "metadata": {},
   "outputs": [],
   "source": [
    "# replace the value of the row with the index number 25433 nder price column with a deined value\n",
    "#df.loc[25433, 'price'] = bronx_median"
   ]
  },
  {
   "cell_type": "code",
   "execution_count": 22,
   "id": "52cc415a-3c9f-47a8-a412-00c4d1ae9670",
   "metadata": {},
   "outputs": [],
   "source": [
    "#df.price = df.price.fillna(bronx_median, inplace = True)"
   ]
  },
  {
   "cell_type": "code",
   "execution_count": null,
   "id": "e137ec09-56d5-49ef-8479-3db157612da7",
   "metadata": {},
   "outputs": [],
   "source": []
  },
  {
   "cell_type": "code",
   "execution_count": 35,
   "id": "7ec97d96-4252-488c-80f3-3de59af213d8",
   "metadata": {},
   "outputs": [],
   "source": [
    "df_neww = df.copy()"
   ]
  },
  {
   "cell_type": "code",
   "execution_count": 36,
   "id": "a533cfb5-fda6-4398-ad76-2a7b35ed2cd2",
   "metadata": {},
   "outputs": [
    {
     "data": {
      "text/plain": [
       "count    48895.000000\n",
       "mean       152.741650\n",
       "std        240.145079\n",
       "min         10.000000\n",
       "25%         69.000000\n",
       "50%        106.000000\n",
       "75%        175.000000\n",
       "max      10000.000000\n",
       "Name: price, dtype: float64"
      ]
     },
     "execution_count": 36,
     "metadata": {},
     "output_type": "execute_result"
    }
   ],
   "source": [
    "df_neww.price.describe()"
   ]
  },
  {
   "cell_type": "markdown",
   "id": "232c8b8f-5feb-43b1-a4c4-a0d25487668b",
   "metadata": {},
   "source": [
    "## Percentile Calculation"
   ]
  },
  {
   "cell_type": "code",
   "execution_count": 23,
   "id": "4dbf7c45-529a-4fec-b92c-bb114419779b",
   "metadata": {},
   "outputs": [],
   "source": [
    "dff = pd.DataFrame(\n",
    "    {\"name\": [\"Rob\", \"Rafiq\", \"Nine\", \"Sofia\", \"Mohan\", \"Tao\", \"Elon Musk\"],\n",
    "     \"income\": [5000, 6000, 4000, 7500, 8000, 7000, 10000000]\n",
    "     })"
   ]
  },
  {
   "cell_type": "code",
   "execution_count": 24,
   "id": "2100991b-5207-4ccf-8d2c-3cdbf1298dcc",
   "metadata": {},
   "outputs": [
    {
     "name": "stdout",
     "output_type": "stream",
     "text": [
      "             income\n",
      "count  7.000000e+00\n",
      "mean   1.433929e+06\n",
      "std    3.777283e+06\n",
      "min    4.000000e+03\n",
      "25%    5.500000e+03\n",
      "50%    7.000000e+03\n",
      "75%    7.750000e+03\n",
      "max    1.000000e+07\n",
      "\n",
      "10th percentile: \n",
      "4600.0\n",
      "25th percentile: \n",
      "5500.0\n",
      "50th percentile: \n",
      "7000.0\n",
      "75th percentile: \n",
      "7750.0\n"
     ]
    }
   ],
   "source": [
    "print(dff.describe())\n",
    "\n",
    "print(f\"\\n10th percentile: \\n{dff.income.quantile(0.10)}\")\n",
    "print(f\"25th percentile: \\n{dff.income.quantile(0.25)}\")\n",
    "print(f\"50th percentile: \\n{dff.income.quantile(0.50)}\")\n",
    "print(f\"75th percentile: \\n{dff.income.quantile(0.75)}\")"
   ]
  },
  {
   "cell_type": "code",
   "execution_count": 25,
   "id": "abe9f8fa-5900-4515-96fa-7b640a1e8e45",
   "metadata": {},
   "outputs": [
    {
     "name": "stdout",
     "output_type": "stream",
     "text": [
      "\n",
      "25th percentile lower interpolation: \n",
      "5000\n",
      "25th percentile higher interpolation: \n",
      "6000\n",
      "75th percentile lower interpolation: \n",
      "7500\n"
     ]
    }
   ],
   "source": [
    "# To select lower or higher percentile\n",
    "print(f\"\\n25th percentile lower interpolation: \\n{dff.income.quantile(0.25, interpolation='lower')}\")\n",
    "print(f\"25th percentile higher interpolation: \\n{dff.income.quantile(0.25, interpolation='higher')}\")\n",
    "print(f\"75th percentile lower interpolation: \\n{dff.income.quantile(0.75, interpolation='lower')}\")\n"
   ]
  },
  {
   "cell_type": "code",
   "execution_count": 27,
   "id": "e616e17e-d432-409f-a322-dfddf6e88514",
   "metadata": {},
   "outputs": [
    {
     "name": "stdout",
     "output_type": "stream",
     "text": [
      "\n",
      "percentile 99: 9400479.999999994\n"
     ]
    }
   ],
   "source": [
    "# To remove outlier\n",
    "percentile_99 = dff.income.quantile(0.99)\n",
    "print(f\"\\npercentile 99: {percentile_99}\")"
   ]
  },
  {
   "cell_type": "code",
   "execution_count": 29,
   "id": "40ab6651-44aa-4ab2-bf95-32ec2f257e00",
   "metadata": {},
   "outputs": [],
   "source": [
    "outlier = dff[dff.income > percentile_99]"
   ]
  },
  {
   "cell_type": "code",
   "execution_count": 31,
   "id": "827917d2-8fff-4bf3-9bf4-8862d598414f",
   "metadata": {},
   "outputs": [
    {
     "name": "stdout",
     "output_type": "stream",
     "text": [
      "\n",
      "\n",
      "    name  income\n",
      "0    Rob    5000\n",
      "1  Rafiq    6000\n",
      "2   Nine    4000\n",
      "3  Sofia    7500\n",
      "4  Mohan    8000\n",
      "5    Tao    7000\n"
     ]
    }
   ],
   "source": [
    "df_nw = dff[dff.income <= percentile_99]\n",
    "\n",
    "print(f\"\\n\")\n",
    "print(df_nw)"
   ]
  },
  {
   "cell_type": "code",
   "execution_count": 32,
   "id": "99b65623-8782-4eef-aee3-042845a2994f",
   "metadata": {},
   "outputs": [
    {
     "name": "stdout",
     "output_type": "stream",
     "text": [
      "        name      income\n",
      "0        Rob      5000.0\n",
      "1      Rafiq      6000.0\n",
      "2       Nine      4000.0\n",
      "3      Sofia         NaN\n",
      "4      Mohan      8000.0\n",
      "5        Tao      7000.0\n",
      "6  Elon Musk  10000000.0\n",
      "\n",
      "clean df\n",
      "        name      income\n",
      "0        Rob      5000.0\n",
      "1      Rafiq      6000.0\n",
      "2       Nine      4000.0\n",
      "3      Sofia      6500.0\n",
      "4      Mohan      8000.0\n",
      "5        Tao      7000.0\n",
      "6  Elon Musk  10000000.0\n"
     ]
    },
    {
     "name": "stderr",
     "output_type": "stream",
     "text": [
      "C:\\Users\\Banji\\AppData\\Local\\Temp\\ipykernel_8796\\791489279.py:3: SettingWithCopyWarning: \n",
      "A value is trying to be set on a copy of a slice from a DataFrame\n",
      "\n",
      "See the caveats in the documentation: https://pandas.pydata.org/pandas-docs/stable/user_guide/indexing.html#returning-a-view-versus-a-copy\n",
      "  dff['income'][3] = np.NaN  # create a missing value\n"
     ]
    }
   ],
   "source": [
    "# Filling missing value\n",
    "\n",
    "dff['income'][3] = np.NaN  # create a missing value\n",
    "print(dff)\n",
    "\n",
    "# Replace NaN with median value\n",
    "df_cln = dff.fillna(dff.income.median())\n",
    "\n",
    "print(f\"\\nclean df\")\n",
    "print(df_cln)"
   ]
  },
  {
   "cell_type": "code",
   "execution_count": 40,
   "id": "25f245f7-6e4b-4733-8fcf-7386f38c2583",
   "metadata": {},
   "outputs": [
    {
     "data": {
      "image/png": "[encoded data removed]",
      "text/plain": [
       "<Figure size 640x480 with 1 Axes>"
      ]
     },
     "metadata": {},
     "output_type": "display_data"
    }
   ],
   "source": [
    "# Histogram calculation\n",
    "\n",
    "df_cln.income.hist();"
   ]
  },
  {
   "cell_type": "code",
   "execution_count": null,
   "id": "6fae1937-6c23-4106-97b8-33783aa949e0",
   "metadata": {},
   "outputs": [],
   "source": []
  },
  {
   "cell_type": "code",
   "execution_count": null,
   "id": "62888bf3-ce59-49d7-be90-3a51ac02479a",
   "metadata": {},
   "outputs": [],
   "source": []
  }
 ],
 "metadata": {
  "kernelspec": {
   "display_name": "Python 3 (ipykernel)",
   "language": "python",
   "name": "python3"
  },
  "language_info": {
   "codemirror_mode": {
    "name": "ipython",
    "version": 3
   },
   "file_extension": ".py",
   "mimetype": "text/x-python",
   "name": "python",
   "nbconvert_exporter": "python",
   "pygments_lexer": "ipython3",
   "version": "3.11.7"
  }
 },
 "nbformat": 4,
 "nbformat_minor": 5
}
