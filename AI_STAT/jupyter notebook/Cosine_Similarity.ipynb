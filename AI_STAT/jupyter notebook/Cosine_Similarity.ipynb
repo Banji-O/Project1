{
 "cells": [
  {
   "cell_type": "raw",
   "id": "65af8a1f-6aa3-4cef-93c7-a5d315327724",
   "metadata": {},
   "source": [
    "Cosine Similarity = A.B/||A||||B||  i.e. A multiply by B divided by magnitude of A and Magnitude of B\n",
    "\n",
    "Colsine Similarity = ||A||||B|| * Cos(theta) / ||A||||B||  i.e. Cos(theta)\n",
    "\n"
   ]
  },
  {
   "cell_type": "raw",
   "id": "6f8f781a-716f-4210-b81f-935275f02656",
   "metadata": {},
   "source": [
    "Cos Similarity = 1 (When arrow lines are facing the same direction )\n",
    "Cos Similarity = 0 (When arrow lines are 90 degree apart)\n",
    "Cos Similarity = -1 (When arrow lines are 180 degree apart) \n",
    "\n",
    "Cosine Distance = 1 - Cosine Similarity"
   ]
  },
  {
   "cell_type": "code",
   "execution_count": 1,
   "id": "2e1ab167-3c63-4722-857a-50f2d6b297a7",
   "metadata": {},
   "outputs": [],
   "source": [
    "import sklearn"
   ]
  },
  {
   "cell_type": "code",
   "execution_count": 2,
   "id": "7b44158d-95c6-4085-b652-ecb03a0d078f",
   "metadata": {},
   "outputs": [],
   "source": [
    "from sklearn.metrics.pairwise import cosine_similarity, cosine_distances"
   ]
  },
  {
   "cell_type": "code",
   "execution_count": 3,
   "id": "ce148d38-4b62-4587-9381-a4954b260999",
   "metadata": {},
   "outputs": [
    {
     "data": {
      "text/plain": [
       "array([[1.]])"
      ]
     },
     "execution_count": 3,
     "metadata": {},
     "output_type": "execute_result"
    }
   ],
   "source": [
    "cosine_similarity([[3,1]], [[6,2]])"
   ]
  },
  {
   "cell_type": "code",
   "execution_count": 5,
   "id": "412addf7-61bb-44e2-a2dd-a2b50ca766a2",
   "metadata": {},
   "outputs": [
    {
     "data": {
      "text/plain": [
       "array([[1.11022302e-16]])"
      ]
     },
     "execution_count": 5,
     "metadata": {},
     "output_type": "execute_result"
    }
   ],
   "source": [
    "cosine_distances([[3, 1]], [[6, 2]])"
   ]
  },
  {
   "cell_type": "code",
   "execution_count": 7,
   "id": "61a94404-8f0c-4c72-b918-dad757d1186e",
   "metadata": {},
   "outputs": [
    {
     "data": {
      "text/html": [
       "<div>\n",
       "<style scoped>\n",
       "    .dataframe tbody tr th:only-of-type {\n",
       "        vertical-align: middle;\n",
       "    }\n",
       "\n",
       "    .dataframe tbody tr th {\n",
       "        vertical-align: top;\n",
       "    }\n",
       "\n",
       "    .dataframe thead th {\n",
       "        text-align: right;\n",
       "    }\n",
       "</style>\n",
       "<table border=\"1\" class=\"dataframe\">\n",
       "  <thead>\n",
       "    <tr style=\"text-align: right;\">\n",
       "      <th></th>\n",
       "      <th>iphone</th>\n",
       "      <th>galaxy</th>\n",
       "    </tr>\n",
       "  </thead>\n",
       "  <tbody>\n",
       "    <tr>\n",
       "      <th>doc1</th>\n",
       "      <td>3</td>\n",
       "      <td>1</td>\n",
       "    </tr>\n",
       "    <tr>\n",
       "      <th>doc2</th>\n",
       "      <td>2</td>\n",
       "      <td>0</td>\n",
       "    </tr>\n",
       "    <tr>\n",
       "      <th>doc3</th>\n",
       "      <td>1</td>\n",
       "      <td>3</td>\n",
       "    </tr>\n",
       "    <tr>\n",
       "      <th>doc4</th>\n",
       "      <td>1</td>\n",
       "      <td>2</td>\n",
       "    </tr>\n",
       "  </tbody>\n",
       "</table>\n",
       "</div>"
      ],
      "text/plain": [
       "      iphone  galaxy\n",
       "doc1       3       1\n",
       "doc2       2       0\n",
       "doc3       1       3\n",
       "doc4       1       2"
      ]
     },
     "execution_count": 7,
     "metadata": {},
     "output_type": "execute_result"
    }
   ],
   "source": [
    "import pandas as pd\n",
    "\n",
    "df = pd.DataFrame([\n",
    "    {'iphone': 3, 'galaxy':1},\n",
    "    {'iphone': 2, 'galaxy': 0},\n",
    "    {'iphone': 1, 'galaxy': 3},\n",
    "    {'iphone': 1, 'galaxy':2}\n",
    "],\n",
    "                  index = [\n",
    "                      'doc1',\n",
    "                      'doc2',\n",
    "                      'doc3',\n",
    "                      'doc4'\n",
    "                  ]\n",
    "                 )\n",
    "df\n",
    "    "
   ]
  },
  {
   "cell_type": "code",
   "execution_count": 11,
   "id": "afc1fb14-f009-4d4b-8448-ad1d644f98a7",
   "metadata": {},
   "outputs": [
    {
     "data": {
      "text/html": [
       "<div>\n",
       "<style scoped>\n",
       "    .dataframe tbody tr th:only-of-type {\n",
       "        vertical-align: middle;\n",
       "    }\n",
       "\n",
       "    .dataframe tbody tr th {\n",
       "        vertical-align: top;\n",
       "    }\n",
       "\n",
       "    .dataframe thead th {\n",
       "        text-align: right;\n",
       "    }\n",
       "</style>\n",
       "<table border=\"1\" class=\"dataframe\">\n",
       "  <thead>\n",
       "    <tr style=\"text-align: right;\">\n",
       "      <th></th>\n",
       "      <th>iphone</th>\n",
       "      <th>galaxy</th>\n",
       "    </tr>\n",
       "  </thead>\n",
       "  <tbody>\n",
       "    <tr>\n",
       "      <th>doc1</th>\n",
       "      <td>3</td>\n",
       "      <td>1</td>\n",
       "    </tr>\n",
       "  </tbody>\n",
       "</table>\n",
       "</div>"
      ],
      "text/plain": [
       "      iphone  galaxy\n",
       "doc1       3       1"
      ]
     },
     "execution_count": 11,
     "metadata": {},
     "output_type": "execute_result"
    }
   ],
   "source": [
    "df.loc['doc1':'doc1']"
   ]
  },
  {
   "cell_type": "code",
   "execution_count": 12,
   "id": "5aa41477-5793-4e13-b6a1-95b08e3fa404",
   "metadata": {},
   "outputs": [
    {
     "data": {
      "text/plain": [
       "array([[0.9486833]])"
      ]
     },
     "execution_count": 12,
     "metadata": {},
     "output_type": "execute_result"
    }
   ],
   "source": [
    "cosine_similarity(df.loc['doc1':'doc1'], df.loc['doc2':'doc2'])"
   ]
  },
  {
   "cell_type": "code",
   "execution_count": 13,
   "id": "336c801c-405b-4707-ba60-04a05a989993",
   "metadata": {},
   "outputs": [
    {
     "data": {
      "text/plain": [
       "array([[0.6]])"
      ]
     },
     "execution_count": 13,
     "metadata": {},
     "output_type": "execute_result"
    }
   ],
   "source": [
    "cosine_similarity(df.loc['doc1':'doc1'], df.loc['doc3':'doc3'])"
   ]
  },
  {
   "cell_type": "code",
   "execution_count": 17,
   "id": "65cbc9e7-7190-4ed9-94a8-ff314b50b81f",
   "metadata": {},
   "outputs": [],
   "source": [
    "x = cosine_similarity(df.loc['doc3':'doc3'], df.loc['doc4':'doc4'])"
   ]
  },
  {
   "cell_type": "code",
   "execution_count": 18,
   "id": "186834ff-fef2-4a35-ad98-a17ff74d6d54",
   "metadata": {},
   "outputs": [],
   "source": [
    "y = cosine_distances(df.loc['doc3':'doc3'], df.loc['doc4':'doc4'])"
   ]
  },
  {
   "cell_type": "code",
   "execution_count": 19,
   "id": "306c41c5-6711-480d-ad3f-a54f2a8c0fa4",
   "metadata": {},
   "outputs": [
    {
     "data": {
      "text/plain": [
       "array([[1.]])"
      ]
     },
     "execution_count": 19,
     "metadata": {},
     "output_type": "execute_result"
    }
   ],
   "source": [
    "x + y"
   ]
  }
 ],
 "metadata": {
  "kernelspec": {
   "display_name": "Python 3 (ipykernel)",
   "language": "python",
   "name": "python3"
  },
  "language_info": {
   "codemirror_mode": {
    "name": "ipython",
    "version": 3
   },
   "file_extension": ".py",
   "mimetype": "text/x-python",
   "name": "python",
   "nbconvert_exporter": "python",
   "pygments_lexer": "ipython3",
   "version": "3.11.7"
  }
 },
 "nbformat": 4,
 "nbformat_minor": 5
}
